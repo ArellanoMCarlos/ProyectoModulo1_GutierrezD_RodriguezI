{
 "cells": [
  {
   "cell_type": "markdown",
   "metadata": {},
   "source": [
    "<img style=\"float: center\" src=\"https://arrupesj.files.wordpress.com/2015/06/4.jpg\" width=\"350px\" height=\"125px\" />\n",
    "\n",
    "\n",
    "# Proyecto\n",
    "### Optimización de nanopartículas de plata (AgNPs).\n",
    "#### Profesor: Carlos Arellano Muro\n",
    "#### Equipo: \n",
    "#### Diamante del Cielo Gutiérrez Nandayapa nt709910\n",
    "#### Isaura Rodríguez Navarro nt713994\n",
    "##### Fecha: 01 de octubre de 2020"
   ]
  },
  {
   "cell_type": "markdown",
   "metadata": {},
   "source": [
    "### 2. Objetivos.\n",
    "> #### 1.1 Objetivo general.\n",
    "> - Plantear un problema que se modele con las herramientas de optimización vistas en el módulo 1.\n",
    "> - Resolver el problema planteado de optimización\n",
    "> #### 1.2 Objetivos específicos\n",
    ">  - Crear un código ejecutable que resuelve la optimización de nanopartículas de plata\n",
    ">  - Hacer uso de las librerías numpy, simpy y scipy.optimize\n"
   ]
  },
  {
   "cell_type": "markdown",
   "metadata": {},
   "source": [
    "Se busca generar nanopartículas de Plata con forma de esferas.\n",
    "\n",
    "Para llevarse a cabo la reacción, se necesitan 4 reactivos:\n",
    "\n",
    "* Nitrato de Plata ($AgNO_3$)\n",
    "* Glucosa ($C_6H_12O_6$) \n",
    "* Polivinilpirrolida ($PVP$)\n",
    "* Hidróxido de sodio ($NaOH$)\n",
    "\n",
    "\n",
    "* $x_A = Nitrato de Plata$\n",
    "* $x_N = Hidroxido de sodio$\n",
    "* $x_P = Polivinilpirrolida$\n",
    "* $x_G = Glucosa$\n",
    "* $x_V = Volumen total$\n",
    "* $x_T = Temperatura$\n",
    "* $x_H = pH$\n",
    "\n",
    "Las condiciones ideales para que se lleve a cabo la reacción de reducción son las siguientes\n",
    "\n",
    "Una proporción molar 1:2 entre el NaOH y el $AgNO_3$\n",
    "\n",
    "Una proporcion molar de 1:2 entre NaOH y la Glucosa\n",
    "\n",
    "La solución B tener una temperatura de 70°C, \n",
    "agitación constante, \n",
    "temperatura constante, \n",
    "pH: menor que 7.\n",
    "\n",
    "La primer síntesis se realizo con las siguientes cantidades de reactivos y se obtuvieron 20 nm\n",
    "\n",
    "Solución A\n",
    "* $x_A = 3.4 g$ \n",
    "\n",
    "en un volumen de 10 ml de agua destilada\n",
    "\n",
    "Solución B\n",
    "* $x_N = 0.4 g$\n",
    "* $x_P = 7.2 g$\n",
    "* $x_G = 3.0 g$\n",
    "\n",
    "en un volumen de 30 ml de agua destilada a una temperatura de 70°C y un pH básico de 3\n",
    "\n",
    "* x_1 = $x_T = 70 °C$\n",
    "* x_2 = $x_V = 40 ml$\n",
    "* x_3 = $x_H =  3$\n",
    "\n",
    "La segunda síntesis con el mismo método se realizo con las siguientes cantidades de reactivos y se obtuvieron en promedio 25 nm\n",
    "\n",
    "Solución A\n",
    "* $x_A = 1.7 g$ \n",
    "\n",
    "en un volumen de 10 ml de agua destilada\n",
    "\n",
    "Solución B\n",
    "* $x_N = 0.2 g$\n",
    "* $x_P = 3.6 g$\n",
    "* $x_G = 1.5 g$\n",
    "\n",
    "en un volumen de 30 ml de agua destilada a una temperatura alrededor de 75°C y un pH básico de 3.5\n",
    "\n",
    "* x_4 = $x_T = 75°C$\n",
    "* x_5 = $x_V = 40 ml$\n",
    "* x_6 = $x_H = 3.5 $\n",
    "\n",
    "Función a optimizar para obtener el tamaño más preciso para las nanopartículas de plata:\n",
    "\n",
    "$x_A + x_N + x_P + x_G + x_S + x_V + x_T + x_H$\n",
    "\n",
    "Teniendo las siguientes restricciones:\n",
    "\n",
    "$x_1 + x_4 \\geq 70°C$\n",
    "$x_2 + x_5 \\leq 40 ml$\n",
    "$x_3 + x_6 \\leq 7 pH $"
   ]
  },
  {
   "cell_type": "code",
   "execution_count": null,
   "metadata": {},
   "outputs": [],
   "source": [
    "\n"
   ]
  },
  {
   "cell_type": "code",
   "execution_count": null,
   "metadata": {},
   "outputs": [],
   "source": [
    "import numpy as np\n",
    "import simpy as sym\n",
    "import scypy.optimize as opt\n",
    "from scipy.optimize import linprog\n",
    "c=np.array([1,1,1, 1, 1, 1,1,1])\n",
    "A=np.array([[-1,-2,-0,2,0,0],[3.4,0.4,7.2,6,70,-40,-3],[1.7,0.2,3.6,75,40,3.5], []])\n",
    "b=np.array([-1,-20,25])\n",
    "opt.linprog(c,A_eq=A,b_eq=b)\n",
    "sol=opt.linprog(c,A,b,method='simplex')\n",
    "sol\n",
    "\n",
    "c=np.array([70,40,3,75,40,3.5])\n",
    "A=np.array([[1,0,0,1,0,0],[0,1,0,0,1,0],[0,0,1,0,0,1]])\n",
    "b=np.array([-70,40,7])\n",
    "sol=opt.linprog(c,A,b,method='simplex')\n",
    "sol"
   ]
  }
 ],
 "metadata": {
  "kernelspec": {
   "display_name": "Python 3",
   "language": "python",
   "name": "python3"
  },
  "language_info": {
   "codemirror_mode": {
    "name": "ipython",
    "version": 3
   },
   "file_extension": ".py",
   "mimetype": "text/x-python",
   "name": "python",
   "nbconvert_exporter": "python",
   "pygments_lexer": "ipython3",
   "version": "3.8.3"
  }
 },
 "nbformat": 4,
 "nbformat_minor": 4
}
